{
 "cells": [
  {
   "cell_type": "markdown",
   "metadata": {},
   "source": [
    "# CSC410 Computational Intelligence\n",
    "\n",
    "## Artificial Neural Network Implementation Assignment 1\n",
    "\n",
    "In this assignment, you will be implementing a single artificial neuron, commonly called a *processing element (PE)*. As described in the assignment page, it is essentially an abstraction of a neuron, which has multiple dendrites that gather input from the axon terminals of other neurons, and the neuron \"fires\" a certain value as a result of its internal processing.\n",
    "\n",
    "The learning goals for this assignment are: \n",
    "\n",
    "<ol>\n",
    "    <li> familiarizing yourself with the basic building block of ANNs</li>\n",
    "    <li> reminding yourself of how classes work in Python (it has been a while since some of you have worked with Python, \n",
    "        right? :-)</li>\n",
    "    <li> remind yourself of how file processing works </li>\n",
    "</ol>\n",
    "\n",
    "### Important point: All the cells in this Notebook need to run from top to bottom in that order and your Notebook may become cluttered with output. If something does not seem to be working, you may need to <a href=\"https://youtu.be/qjRfyjNXpKE\">restart the kernel</a> to *reset* everything.\n",
    "\n",
    "\n",
    "## WORK YOU NEED TO DO: Defining the *processingElement* class\n",
    "\n",
    "People who work with ANNs generally do not use a program that implements a purely object-oriented network, with layers of *PEs* attached to other *PEs* in other layers. Calling all those methods to pass data takes too much time, especially when considering how many connections are necessary (we will get to that later). When using TensorFlow, we will simply be using math and matrix multiplication, which is much faster. For this assignment, however, we will follow from the practices of CSC236 and define classes to make objects. \n",
    "\n",
    "When we are defining a class to represent the *PE*, we will assume that the weights that are associated with all the inputs into it are saved in a file called *<code>weights.in</code>*. This file consists of an integer of how many weights there are (say, <code>numWeights</code>), followed by a single line of decimal numbers representing the weights for the *PE*. There should be <code>numWeights</code> numbers in this line. \n",
    "\n",
    "You will implement \n",
    "<ol>\n",
    "    <li> the constructor, which will take as an arguments <a href=\"https://www.tutorialspoint.com/python/python_files_io.htm\">the file object</a> of <i><code>weights.in</code></i> (the file itself is opened outside the constructor), and <code>numWeights</code>. It will read in a line of decimal numbers from the file object and assigns them to a weights list (You can assume that the files are correct, so you do NOT need to do any error checking). These numbers are separated by a tab character, so you can use the <code>split()</code> function to break an entire line into a list of strings. <i>pointer: you should convert all the values into type <code>float</code> before saving then in the list of weights. You can see some examples of doing this on <a href=\"https://www.w3schools.com/python/python_datatypes.asp\">this W3Schools website</a>*</i>\n",
    "    </li>\n",
    "    <li> a function called <code>generate_output()</code> that will take as input a list of pattern values. It will generate the output by first multipling each input value in the pattern with its corresponding weight. After adding them together, it passes the sum into a <a href=\"https://en.wikipedia.org/wiki/Sigmoid_function\"><i>sigmoid function</i></a>, which results in the output. I included a function called <code>sigmoid()</code> for you. Note that <code>generate_output</code> returns a <b>floating point number</b>. </li>\n",
    "</ol>\n",
    "\n",
    "Complete the code in the cell below and run it."
   ]
  },
  {
   "cell_type": "code",
   "execution_count": 1,
   "metadata": {},
   "outputs": [],
   "source": [
    "# I gave you the sigmoid function implementation for you to use in the processingElement class \n",
    "import math\n",
    "\n",
    "def sigmoid(input):\n",
    "    '''Custom made function to calculate the sigmoid function given an input'''\n",
    "    return 1/(1+math.exp(-input))\n",
    "\n",
    "class processingElement:\n",
    "    def __init__(self, weightFile, nWeights=0):\n",
    "        \"\"\"    \n",
    "        the constructor, which will take as an arguments the file object of weights.in \n",
    "        (the file itself is opened outside the constructor), and numWeights. \n",
    "        It will read in a line of decimal numbers from the file object and assigns them to a weights list.      \n",
    "        \"\"\"\n",
    "        \n",
    "        #The first line in the weightFile, which is a first element of a list, contains a number of weights        \n",
    "        self.nWeights=int(weightFile[0]) \n",
    "     \n",
    "        #The second line in the weightFile, which is a second element of a list, contains decimal number of weights\n",
    "        #The numbers are separated by a tab character, so use the split() function to break an entire line into a list of strings.\n",
    "        string_of_weightFile = (weightFile[1]).split(\"\\t\")\n",
    "        \n",
    "        #New empty weights_list     \n",
    "        weights_list = []\n",
    "        \n",
    "        #convert all the values into type float before saving then in the list of weights\n",
    "        for i in range(self.nWeights):\n",
    "            weights_list.append(float(string_of_weightFile[i])) \n",
    "            \n",
    "        #returns a list of weights\n",
    "        self.weightFile = weights_list \n",
    "        \n",
    "    def generate_output(self, pattern):\n",
    "        \"\"\"\n",
    "        generate_output() takes a list of pattern values as the input. \n",
    "        It will generate the output by first multipling each input value in the pattern with its corresponding weight. \n",
    "        After adding them together, it passes the sum into a sigmoid function, which results in the output. \n",
    "        generate_output returns a floating point number.\n",
    "        \"\"\"\n",
    "        #sum of each pattern starts at 0\n",
    "        sum_of_each_pattern = 0\n",
    "       \n",
    "        #Create an empty list to save the result when multiplying each input value in the pattern with its corresponding weight\n",
    "        multiply_input_corresponding_weight = []\n",
    "        \n",
    "        #Multiplying each input value in the pattern with its corresponding weight\n",
    "        for i in range(self.nWeights):\n",
    "            multiply_input_corresponding_weight.append(pattern[i]*self.weightFile[i])\n",
    "        \n",
    "        #Adding them together and saves in sum_of_each_pattern\n",
    "        for i in range(len(multiply_input_corresponding_weight)):\n",
    "            sum_of_each_pattern += multiply_input_corresponding_weight[i]\n",
    "        \n",
    "        #Output after passing the sum into a sigmoid function\n",
    "        output = float(sigmoid(sum_of_each_pattern))\n",
    "        \n",
    "        return output"
   ]
  },
  {
   "cell_type": "markdown",
   "metadata": {},
   "source": [
    "## The main() function\n",
    "I recommend that you implement the constructor and test it with functions of your own to make sure it works as you expect before working on <code>generate_output()</code>. Once you designed and implemented the entire class, you can check to make sure that it works by importing two functions that I designed to test your implementation. They are <code>process_patterns()</code> and <code>check_outputs()</code>. \n",
    "\n",
    "What remains is for you to implement the <code>main()</code> function, which can be done in about 6 lines. Open the *<code>weights.in</code>* file (you can read about file objects <a href=\"https://www.tutorialspoint.com/python/python_files_io.htm\">on this TutorialsPoint</a> website), read in the number of weights, creates a processing element by giving it the number of weights and the file object, creates a list of outputs for every pattern by calling the <code>process_patterns()</code> function with the *PE* as an argument, passing this list into the <code>check_outputs()</code> function, and finally closing the file object. \n",
    "\n",
    "The cell should output \"SUCCESS\" if all the tests that I gave you pass."
   ]
  },
  {
   "cell_type": "code",
   "execution_count": 2,
   "metadata": {
    "scrolled": true
   },
   "outputs": [
    {
     "ename": "ModuleNotFoundError",
     "evalue": "No module named 'auxiliaries'",
     "output_type": "error",
     "traceback": [
      "\u001b[1;31m---------------------------------------------------------------------------\u001b[0m",
      "\u001b[1;31mModuleNotFoundError\u001b[0m                       Traceback (most recent call last)",
      "\u001b[1;32m<ipython-input-2-a45ef7ee7c84>\u001b[0m in \u001b[0;36m<module>\u001b[1;34m\u001b[0m\n\u001b[1;32m----> 1\u001b[1;33m \u001b[1;32mfrom\u001b[0m \u001b[0mauxiliaries\u001b[0m \u001b[1;32mimport\u001b[0m \u001b[0mcheck_outputs\u001b[0m\u001b[1;33m,\u001b[0m \u001b[0mprocess_patterns\u001b[0m\u001b[1;33m\u001b[0m\u001b[1;33m\u001b[0m\u001b[0m\n\u001b[0m\u001b[0;32m      2\u001b[0m \u001b[1;33m\u001b[0m\u001b[0m\n\u001b[0;32m      3\u001b[0m \u001b[1;32mdef\u001b[0m \u001b[0mmain\u001b[0m\u001b[1;33m(\u001b[0m\u001b[1;33m)\u001b[0m\u001b[1;33m:\u001b[0m\u001b[1;33m\u001b[0m\u001b[1;33m\u001b[0m\u001b[0m\n\u001b[0;32m      4\u001b[0m \u001b[1;33m\u001b[0m\u001b[0m\n\u001b[0;32m      5\u001b[0m     \u001b[1;31m#Open the weights.in file\u001b[0m\u001b[1;33m\u001b[0m\u001b[1;33m\u001b[0m\u001b[1;33m\u001b[0m\u001b[0m\n",
      "\u001b[1;31mModuleNotFoundError\u001b[0m: No module named 'auxiliaries'"
     ]
    }
   ],
   "source": [
    "from auxiliaries import check_outputs, process_patterns\n",
    "\n",
    "def main():\n",
    "    \n",
    "    #Open the weights.in file\n",
    "    weightFile =open(\"weights.in\",\"r\")\n",
    "    \n",
    "    #Readthelines in weights.in file\n",
    "    weightFile = weightFile.readlines()\n",
    "    \n",
    "    #Create a processing element\n",
    "    processing_element = processingElement(weightFile)\n",
    " \n",
    "    #create a list of outputs for every pattern\n",
    "    outputs = process_patterns(processing_element)\n",
    "\n",
    "    #checking the outputs\n",
    "    check_outputs(outputs)\n",
    "\n",
    "main()"
   ]
  },
  {
   "cell_type": "markdown",
   "metadata": {},
   "source": [
    "## SHORT ANSWER: Follow up concept builds\n",
    "\n",
    "We mentioned above that if we have an ANN fully implemented using OOP (Object Oriented Programming) we would call a LOT of functions like <code>generate_output()</code> in order to generate an output for every pattern. To get a sense of how many we would need, consider a small network that takes as input a photograph that is 1000x1000 pixels, and each pixel has RGB (Red-Green-Blue) channels. In other words, each pixel has 3 values that need to be input. \n",
    "\n",
    "Suppose that the network is built in 3 layers, where there are *PEs* in the input layer, one for every RGB channel for each pixel. Each of the 50,000 *PEs* in the middle layer is fully connected to each *PE* in the input layer. Finally, this ANN is a classifier that identifies one of 100 objects given a picture, so it has 100 *PEs* in the output layer, each of which is fully connected to every *PE* in the hidden layer. \n",
    "\n",
    "Given these requirements, how many times would the system call <code>generate_output()</code> for each pattern? It would be the same as the number of connections you would have in this ANN."
   ]
  },
  {
   "cell_type": "raw",
   "metadata": {},
   "source": [
    "The number of times the system call generate_output() for each pattern is the number of how many inputs we have (because from the number of inputes, we can calculate how many weights we need.)\n",
    "As there are 1000x1000 pixels, there are 1,000,000 different pixels.\n",
    "As there are 3 values that need to be input, there are (1,000,000)*3 = 3,000,000 inputs.\n",
    "There are 50,000 PEs are in the middle layer, and 100 PEs in the output layer,\n",
    "so it would be 3,000,000 * 50,000 * 100 = 15,000,000,000,000 times the system call generate_output() for each pattern, which is the same as the number of connections in this ANN."
   ]
  },
  {
   "cell_type": "markdown",
   "metadata": {},
   "source": [
    "## You are done. Restart the kernel and clear the outputs before saving this notebook as *yourlastname.CSC410.ANN.A1* and upload to Moodle.\n",
    "I will use the following grading criteria:\n",
    "\n",
    "<ol>\n",
    "    <li> Correct implementation. (10 points total) I have a new <i><code>weights.in</code></i> file that I will load into your PE and a new patterns file with a set of 10 input patterns that I will use to test your code. You will get one point for every pattern that your program successfully generates the correct output.</li>\n",
    "    <li> Programming practice (4 points total) You will also get points based on how well your program is commented and have informative variable names. \n",
    "        <ol>\n",
    "            <li> You will get up to 2 points for enough comments that the grader (the TA or me) easily understand your implementation. If you do not add enough comments, your program could be confusing, or even worse, it may suggest that you took code without properly understanding what you are doing (the latter could be grounds for academic dishonesty. Please do not put me there) </li>\n",
    "            <li> You will get 1 point for using informative variable names. I realize this criterion may seen a little unnecessary, but anyone who had to revisit code they wrote or had to analyze someone else's code REALLY appreciates good variable names. </li>\n",
    "            <li> You will get 1 point for consistent variable and function names. This assignment is fairly prescriptive about the functions because I already gave you the names, but it would be good to pick a practice. Some people use camelCase (such as firstVariable) for variable names, but others use underscores (such as first_variable). </li>\n",
    "        </ol>\n",
    "    </li>\n",
    "    <li> Concept build (1 point total) You will get one point for completely answering the last question, including an explanation. </li>\n",
    "</ol>"
   ]
  }
 ],
 "metadata": {
  "kernelspec": {
   "display_name": "Python 3",
   "language": "python",
   "name": "python3"
  },
  "language_info": {
   "codemirror_mode": {
    "name": "ipython",
    "version": 3
   },
   "file_extension": ".py",
   "mimetype": "text/x-python",
   "name": "python",
   "nbconvert_exporter": "python",
   "pygments_lexer": "ipython3",
   "version": "3.8.3"
  }
 },
 "nbformat": 4,
 "nbformat_minor": 2
}
